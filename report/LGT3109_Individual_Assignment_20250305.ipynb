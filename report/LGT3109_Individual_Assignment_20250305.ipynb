{
 "cells": [
  {
   "cell_type": "markdown",
   "metadata": {},
   "source": [
    "# LGT3109 Individual Assignment"
   ]
  },
  {
   "cell_type": "markdown",
   "metadata": {},
   "source": [
    "#### Input your name and studen ID: \n",
    "\n",
    "Name:\n",
    "\n",
    "Student ID:"
   ]
  },
  {
   "cell_type": "markdown",
   "metadata": {},
   "source": [
    "### **Instructions for the assignment:**\n",
    "* Follow Section 1 and Section 2 of the tutorial book to access the coding environment remotely and launch Python IDLE through Anaconda Navigation.\n",
    "* Refer to Section 3.1 of the tutorial book and open the assignment report located in a computer (e.g., E:\\LGT3109\\A\\report\\ in MN102a)\n",
    "* Read Part 1 to understand the problem and its background\n",
    "* Complete (compulsory) tasks in Part 2 independently\n",
    "* Complete (optinal) tasks in Part 3 independently if you choose to\n",
    "* <font color='red'> <b>All the files used and created in the assignment must be stored in the report folder (i.e., E:\\LGT3109\\A\\report\\ in MN102a)</b></font>\n",
    "* Follow Section 4 of the tutorial book to save the report and zip the report folder (i.e., E:\\LGT3109\\A\\report\\ in MN102a). The zip file is named as LGT3109AReport{your student_id}.zip (e.g., if student_id is 12345678d, then the zip file's name is LGT3109AReport12345678d.zip). <font color='red'>The zip file needs to include the following files:\n",
    "    * an .ipynb file of this assignment report    \n",
    "    * image files, text files, excel files that are used and generated in this assignment report    \n",
    "    </font> \n",
    "* Submit the zip file of the report folder in the blackboard. The submission due date is **<font color='red'>4 April 2025</font>**"
   ]
  },
  {
   "cell_type": "markdown",
   "metadata": {},
   "source": [
    "### Part 1: Problem Description\n",
    "\n",
    "**Background**:You are asked to extract information from the LMS staff webpage (see the figure below) at https://www.polyu.edu.hk/lms/people/academic-staff/ to make a contact directory in an excel worksheet.\n",
    "\n",
    "<img src = 'fig1.png' width=400>\n",
    "\n",
    "The excel worksheet is expected to have a title “LMS Contact Directory”, together with four columns presenting information of staffs’ names (including their titles), emails, telephones, and rooms (see the figure below).\n",
    "<img src = 'fig2.png' width=400>\n",
    "\n",
    "**A pure manual approach:** You can make the contact directory manually by the following steps:\n",
    "1.\tCreate a new excel file dir-lms.xlsx in the report folder (i.e., E:\\LGT3109\\A\\report\\ of the remote desktop), and add the title and headers of the four columns to a worksheet for the contact directory\n",
    "2.\tOpen the browser Chrome to visit the LMS staff webpage at https://www.polyu.edu.hk/lms/people/academic-staff/\n",
    "3.\tFor each staff shown in the web page, \n",
    "    - (a)\tcopy his/her name (together with title) and paste it to the column A of the excel sheet\n",
    "    - (b)\tcopy his/her email and paste it to the column B of the excel sheet\n",
    "    - (c)\tcopy his/her telephone and paste it to the column B of the excel sheet\n",
    "    - (d)\tcopy his/her room number and paste it to the column B of the excel sheet\n",
    "4.\tAdjust the format of the worksheet, including column widths, fonts, etc. Save the excel file of the contact directory\n",
    "\n",
    "However, the pure manual approach above involves lots of manual tasks, and thus is very boring and time consuming.\n",
    "\n",
    "**Problem:** To enhance the approach for making the contact directory, can you apply your Python coding skills to automate those manual tasks?"
   ]
  },
  {
   "cell_type": "markdown",
   "metadata": {},
   "source": [
    "### Part 2 (Compulsory): Automation of Data Extraction Column by Column\n",
    "\n",
    "Instead of copying and pasting data for the worksheet cell by cell in the worksheet, we can automate data extraction and then copy-paste extracted data to the worksheet column by column.  This can significantly reduce the copying and pasting tasks.\n",
    "\n",
    "Specifically, the improved approach has the following steps:\n",
    "1. Create a new excel file named dir-lms.xlsx in the report folder (i.e., E:\\LGT3109\\A\\report\\ of the remote desktop), and add the title \"LMS Contact Directory\" and headers of the four columns (\"Name\", \"Email', \"Tel\", and \"Room\") to a worksheet for the contact directory\n",
    "2. Open the browser Chrome to visit the LMS staff webpage at https://www.polyu.edu.hk/lms/people/academic-staff/\n",
    "3. (Task 2.1) Copy texts of the LMS staff webpage to a text file named info-lms.txt in the report folder (i.e., E:\\LGT3109\\A\\report\\ in MN102a) \n",
    "4. (Task 2.2) Extract-Copy-Paste Staffs' names:\n",
    "    - (a) Execute a code to extract staffs' names from info-lms.txt and print them line by line\n",
    "    - (b) Copy and paste all the staffs' names together to the column A of the excel sheet\n",
    "5. (Task 2.3) Extract-Copy-Paste Staffs' emails:\n",
    "    - (a) Execute a code to extract staffs' emails from info-lms.txt and print them line by line\n",
    "    - (b) Copy and paste all the staffs' emails together to the column B of the excel sheet\n",
    "6. (Task 2.4) Extract-Copy-Paste Staffs' telephones:\n",
    "    - (a) Execute a code to extract staffs' telephones from info-lms.txt and print them line by line\n",
    "    - (b) Copy and paste all the staffs' telephones together to the column C of the excel sheet\n",
    "7. (Task 2.5) Extract-Copy-Paste Staffs' room numbers:\n",
    "    - (a) Execute a code to extract staffs' room numbers from info-lms.txt and print them line by line\n",
    "    - (b) Copy and paste all the staffs' room numbers together to the column D of the excel sheet\n",
    "8. (Task 2.6) Adjust the format of the worksheet, including column widths, fonts, etc. Save the excel file of the contact directory\n",
    "\n",
    "In order to implement the above approach, you need to accomplish the following tasks 2.1-2.6. <font color='red'> Before doing the tasks, follow Step 1 above to create a new excel file named dir-lms.xlsx in the report folder of the assignment (i.e., E:\\LGT3109\\A\\report\\dir-lms.xlsx) with its title and column headers added, and follow Step 2 above to open the LMS staff webpage in Chrome. </font>\n",
    "\n",
    "<font color='red'> <b>For Tasks 2.1-2.7, you cannot and do not need to import any packages. For Task 2.8, you can import any packages you need. </b></font>"
   ]
  },
  {
   "cell_type": "markdown",
   "metadata": {},
   "source": [
    "#### Task 2.1 Copy texts in the LMS staff webpage to a text file named info-lms.txt in the folder E:\\LGT3109\\A\\report (10 points):\n",
    "\n",
    "For Task 1.1, follow the steps below:\n",
    "- (a) Use a text editor (such as Notepad in Windows 10, and TextEdit in MacOS) to a new and empty text file, and save it with a file name info-lms.txt in the report folder (i.e., E:\\LGT3109\\A\\report\\). (**If you are using TextEdit in MacOS, please check https://macreports.com/how-to-create-a-text-txt-file-on-a-mac/ to see how to create a text file rather than a rich text file.**)\n",
    "- (b) Visit the staff webpage at https://www.polyu.edu.hk/lms/people/academic-staff/ by the browser Chrome, click the webpage, select all the texts of the webpage (by pressing Ctrl-a in Windows 10, or Command-a in MacOS), and copy them (by pressing Ctrl-c in Windows 10, or Command-a in MacOS).\n",
    "- (c) Go to the text editor, paste the text of the webpage to the text file (by pressing Ctrl-v in Windows 10, or Command-a in MacOS) , and save the text file with the name info-lms.txt to the report folder of the assignment (i.e., E:\\LGT3109\\A\\report\\info-lms.txt).\n",
    "\n",
    "Sample (partial) content of the text file E:\\LGT3109\\A\\report\\info-lms.txt:\n",
    "    \n",
    "       Skip to main content\n",
    "        Logo\n",
    "        Logo\n",
    "        Open Site Search Popup\n",
    "\n",
    "    ... ..."
   ]
  },
  {
   "cell_type": "markdown",
   "metadata": {},
   "source": [
    "<font color='red'>Edit this cell to copy the last 20 lines of info-lms.txt in below:</font>\n",
    "\n"
   ]
  },
  {
   "cell_type": "markdown",
   "metadata": {},
   "source": [
    "#### Task 2.2: Extract-Copy-Paste Staffs' Names (15 points)\n",
    "\n",
    "By executing the code below, you will find that (1) it does not output all the staffs' names and that (2) staffs' names are displayed more than once. Review the text file info-lms.txt above, and then, explain the errors of the code below, explain how to correct the errors, and write and executed the corrected code. \n",
    "\n",
    "Note: there are 56 staffs."
   ]
  },
  {
   "cell_type": "code",
   "execution_count": null,
   "metadata": {
    "scrolled": false
   },
   "outputs": [],
   "source": [
    "def contain_name(line):\n",
    "    if line.startswith('Prof.'):\n",
    "        return True\n",
    "    return False\n",
    "\n",
    "fname = input('Enter Text File Name: ') #'info-lms.txt'\n",
    "file = open (fname, 'r', encoding = 'utf-8')\n",
    "line_no = 0\n",
    "for line in file:\n",
    "    if contain_name(line):\n",
    "        print(line.strip())\n",
    "        line_no = line_no + 1\n",
    "print('Lines:', line_no)"
   ]
  },
  {
   "cell_type": "markdown",
   "metadata": {},
   "source": [
    "<font color='red'>(a) Edit this cell to explain the errors of the code above and how to correct them:</font>"
   ]
  },
  {
   "cell_type": "code",
   "execution_count": null,
   "metadata": {},
   "outputs": [],
   "source": [
    "#(b) Edit this cell to include the corrected code:\n"
   ]
  },
  {
   "cell_type": "markdown",
   "metadata": {},
   "source": [
    "<font color='red'>(c) Execute the corrected code to print all the staffs' names line by line. Copy all the staff names to Column A of the excel worksheet in E:\\LGT3109\\A\\report\\dir-lms.xlsx. Make a screenshot of the worksheet (which shall have data for Column A), and insert the screenshot in this cell:</font>"
   ]
  },
  {
   "cell_type": "markdown",
   "metadata": {},
   "source": [
    "#### Task 2.3: Extract-Copy-Paste Staffs' Emails (15 points)\n",
    "\n",
    "Modify the code in Task 2.2 to write a code that prints all the staffs' emails line by line.\n",
    "\n",
    "Sample (partial) output:\n",
    "\n",
    "    mike.lai@polyu.edu.hk\n",
    "    edwin.cheng@polyu.edu.hk\n",
    "    andy.yeung@polyu.edu.hk\n",
    "    yulan.wang@polyu.edu.hk\n",
    "    anthony.pang@polyu.edu.hk\n",
    "    ... ..."
   ]
  },
  {
   "cell_type": "markdown",
   "metadata": {},
   "source": [
    "<font color='red'>(a) Edit this cell to explain how to define and implement a new function `contain_email(line)` that returns `True` only if `line` contains an email address of a staff.</font>"
   ]
  },
  {
   "cell_type": "code",
   "execution_count": null,
   "metadata": {},
   "outputs": [],
   "source": [
    "#(b) Edit this cell to write the code for Task 2.3,\n",
    "#based on a newly defined function contain_email(line):\n",
    "def contain_email(line):\n",
    "    \n"
   ]
  },
  {
   "cell_type": "markdown",
   "metadata": {},
   "source": [
    "<font color='red'>(c) Execute the code to print all the staffs' emails line by line. Copy all the staffs emails to Column B of the excel worksheet in E:\\LGT3109\\A\\report\\dir-lms.xlsx. Make a screenshot of the worksheet (which shall have data for Columns A and B), and insert the screenshot in this cell:</font>"
   ]
  },
  {
   "cell_type": "markdown",
   "metadata": {},
   "source": [
    "#### Task 2.4: Extract-Copy-Paste Staffs' Telephones (15 points)\n",
    "\n",
    "Modify the code in Task 2.2 to write a code that prints all the staffs' telephones line by line.\n",
    "\n",
    "Sample (partial) output:\n",
    "\n",
    "    +852 2766 7421\n",
    "    +852 2766 5215\n",
    "    +852 2766 4063\n",
    "    +852 2766 4683\n",
    "    +852 2766 4126\n",
    "    ... ..."
   ]
  },
  {
   "cell_type": "markdown",
   "metadata": {},
   "source": [
    "<font color='red'>(a) Edit this cell to explain how to define and implement a new function `contain_tel(line)` that returns `True` only if `line` contains a telephone number of a staff.</font>"
   ]
  },
  {
   "cell_type": "code",
   "execution_count": null,
   "metadata": {},
   "outputs": [],
   "source": [
    "#(b) Edit this cell to write the code for Task 2.4\n",
    "#based on a newly defined function contain_tel(line):\n",
    "def contain_tel(line):\n",
    "    \n",
    "\n"
   ]
  },
  {
   "cell_type": "markdown",
   "metadata": {},
   "source": [
    "<font color='red'>(c) Execute the code to print all the staffs' telephone numbers line by line. Copy all the staffs telephone numbers to Column C of the excel worksheet in E:\\LGT3109\\A\\report\\dir-lms.xlsx. Make a screenshot of the worksheet (which shall have data for Columns A-C), and insert the screenshot in cell:</font>"
   ]
  },
  {
   "cell_type": "markdown",
   "metadata": {},
   "source": [
    "#### Task 2.5: Extract-Copy-Paste Staffs' Room Numbers (15 points)\n",
    "\n",
    "Modify the code in Task 2.2 to write a code that prints all the staffs' room numbers line by line.\n",
    "\n",
    "Sample (partial) output:\n",
    "\n",
    "    M921c\n",
    "    M922b\n",
    "    M626a\n",
    "    M1005\n",
    "    M625\n",
    "    CD401c\n",
    "    ... ..."
   ]
  },
  {
   "cell_type": "markdown",
   "metadata": {},
   "source": [
    "<font color='red'>(a) Edit this cell to explain how to define and implement a new function `contain_room(line)` that returns `True` only if `line` contains a room number of a staff.</font>"
   ]
  },
  {
   "cell_type": "code",
   "execution_count": null,
   "metadata": {},
   "outputs": [],
   "source": [
    "#(b) Edit this cell to write the code for Task 2.5 \n",
    "#based on a newly defined function contain_room(line):\n",
    "def contain_room(line):\n",
    "    "
   ]
  },
  {
   "cell_type": "markdown",
   "metadata": {},
   "source": [
    "<font color='red'>(c) Execute the code to print all the staffs' room numbers line by line. Copy all the staffs' room numbers to Column D of the excel worksheet in E:\\LGT3109\\A\\report\\dir-lms.xlsx. Make a screenshot of the worksheet (which shall have data for Columns A-D), and insert the screenshot in this cell:</font>"
   ]
  },
  {
   "cell_type": "markdown",
   "metadata": {},
   "source": [
    "#### Task 2.6: Format Excel Worksheet  (10 points)\n",
    "\n",
    "According to the problem description in Part 1, adjust the excel worksheet accordingly, and save the excel file E:\\LGT3109\\A\\report\\dir-lms.xlsx."
   ]
  },
  {
   "cell_type": "markdown",
   "metadata": {},
   "source": [
    "<font color='red'>(a) Make a screenshot of the final worksheet, and insert the screenshot in this cell:</font>"
   ]
  },
  {
   "cell_type": "markdown",
   "metadata": {},
   "source": [
    "<font color='red'>(b) Compared with the pure manual approach, evaluate the savings of copying-pasting tasks by the approach newly implemented above in Part 2, and present your evaluation in this cell:</font>"
   ]
  },
  {
   "cell_type": "markdown",
   "metadata": {},
   "source": [
    "#### Task 2.7: Applications to Departments MM and AF (10 points)\n",
    "- By using the codes developed above, how can we generate similar contact directories in excel for Department MM and Department AF by extracting information from https://www.polyu.edu.hk/mm/people/academic-staff/ and https://www.polyu.edu.hk/af/people/academic-staff/? The excel file are named as dir-mm.xlsx and dir-af.xlsx, respectively, stored in E:\\LGT3109\\A\\report\\.\n",
    "- For these applications, do you need to make any changes in the codes? Why to make such changes?"
   ]
  },
  {
   "cell_type": "markdown",
   "metadata": {},
   "source": [
    "<font color='red'> (a) In this cell, illustrate how to use the codes above to generate contact directories in excel for Department MM and Department AF. </font>"
   ]
  },
  {
   "cell_type": "markdown",
   "metadata": {},
   "source": [
    "<font color='red'> (b) In this cell, illustrate what changes you need to make in your codes, and why to make such changes. </font>"
   ]
  },
  {
   "cell_type": "markdown",
   "metadata": {},
   "source": [
    "<font color='red'> (c) Apply your revised code to generate contact directories in excel for MM and for AF, with the names of the excel files being dir-mm.xlsx and dir-af.xlsx, respectively, stored in E:\\LGT3109\\A\\report. Make screenshots of the worksheets, and insert the screenshots in this cell:</font>"
   ]
  },
  {
   "cell_type": "markdown",
   "metadata": {},
   "source": [
    "#### Task 2.8: Self-Reflections (10 points)\n",
    "\n",
    "Based on your experience on doing tasks in Part 2, have a self-reflections on the following questions: (1) how do you think of your abilities in understanding and applying various coding concepts learned in class? (2) Do you have any questions? (3) Have you found any scenarios where your coding skills are useful?"
   ]
  },
  {
   "cell_type": "markdown",
   "metadata": {},
   "source": [
    "<font color='red'>\n",
    "Edit this cell to answer the questions above:\n",
    "</font>\n",
    "\n",
    "Self-evaluations of your abilities in understanding and applying the various coding concepts learned in the class, such as:\n",
    "\n",
    "- Values, variables, and evaluations:\n",
    "- Conditional statements (if-elif-else):\n",
    "- Built-in functions, such as input, print, etc.:\n",
    "- User-defined functions:\n",
    "- Loops:\n",
    "- String and its built-in functions:\n",
    "- Parsing and Extracting approach:\n",
    "- File operations:\n",
    "\n",
    "\n",
    "Your questions:\n",
    "\n",
    "Scenarios where your current coding skills are useful:\n"
   ]
  },
  {
   "cell_type": "markdown",
   "metadata": {},
   "source": [
    "### Part 3 (Optional): Further Automations (5 bonus points per automated task)\n",
    "\n",
    "By now, we have reduced a significant number of manual tasks in making the contact directory from the staff webpage. However, there are still some manual tasks left, such as copying data to excel file column by column, copy texts from the webpage to a text file, manually format the excel worksheet, etc. Develop python programs to further automate manual tasks. For each manual task that can be eliminated, you will gain an additional 5 points for this assignment."
   ]
  },
  {
   "cell_type": "markdown",
   "metadata": {},
   "source": [
    "<font color='red'>(a) Edit this cell to illustrate how you are going to automate some manual tasks further.</font>"
   ]
  },
  {
   "cell_type": "code",
   "execution_count": null,
   "metadata": {},
   "outputs": [],
   "source": [
    "#(b) Edit this cell to present your python code\n"
   ]
  },
  {
   "cell_type": "markdown",
   "metadata": {},
   "source": [
    "<font color='red'>(c) Edit this cell to explain how to execute and use your code, which additional tasks have been automated, and what benefits have been gained. Insert screenshots to show the result of your code:</font>"
   ]
  }
 ],
 "metadata": {
  "kernelspec": {
   "display_name": "Python 3 (ipykernel)",
   "language": "python",
   "name": "python3"
  },
  "language_info": {
   "codemirror_mode": {
    "name": "ipython",
    "version": 3
   },
   "file_extension": ".py",
   "mimetype": "text/x-python",
   "name": "python",
   "nbconvert_exporter": "python",
   "pygments_lexer": "ipython3",
   "version": "3.11.5"
  }
 },
 "nbformat": 4,
 "nbformat_minor": 4
}
